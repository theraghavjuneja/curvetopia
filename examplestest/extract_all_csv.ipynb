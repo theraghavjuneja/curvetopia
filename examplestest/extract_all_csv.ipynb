{
 "cells": [
  {
   "cell_type": "code",
   "execution_count": 2,
   "metadata": {},
   "outputs": [
    {
     "name": "stdout",
     "output_type": "stream",
     "text": [
      "Moved: frag0.csv\n",
      "Moved: frag01_sol.csv\n",
      "Moved: frag1.csv\n",
      "Moved: frag2.csv\n",
      "Moved: frag2_sol.csv\n",
      "Moved: isolated.csv\n",
      "Moved: isolated_sol.csv\n",
      "Moved: occlusion1.csv\n",
      "Moved: occlusion1_sol.csv\n",
      "Moved: occlusion2.csv\n",
      "Moved: occlusion2_sol.csv\n",
      "All CSV files have been moved to the current working directory.\n"
     ]
    }
   ],
   "source": [
    "import os\n",
    "import shutil\n",
    "\n",
    "source_dir = r'C:\\Users\\pooja\\Downloads\\curvetop\\problems'\n",
    "destination_dir = os.getcwd()  # Current working directory\n",
    "\n",
    "\n",
    "if not os.path.exists(source_dir):\n",
    "    raise Exception(f\"Source directory does not exist: {source_dir}\")\n",
    "\n",
    "\n",
    "files = os.listdir(source_dir)\n",
    "\n",
    "\n",
    "for file in files:\n",
    "    \n",
    "    if file.endswith('.csv'):\n",
    "      \n",
    "        full_file_path = os.path.join(source_dir, file)\n",
    "\n",
    "        shutil.move(full_file_path, destination_dir)\n",
    "        print(f\"Moved: {file}\")\n",
    "\n",
    "print(\"All CSV files have been moved to the current working directory.\")\n"
   ]
  }
 ],
 "metadata": {
  "kernelspec": {
   "display_name": "Python 3",
   "language": "python",
   "name": "python3"
  },
  "language_info": {
   "codemirror_mode": {
    "name": "ipython",
    "version": 3
   },
   "file_extension": ".py",
   "mimetype": "text/x-python",
   "name": "python",
   "nbconvert_exporter": "python",
   "pygments_lexer": "ipython3",
   "version": "3.11.5"
  }
 },
 "nbformat": 4,
 "nbformat_minor": 2
}
