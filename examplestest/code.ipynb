{
 "cells": [
  {
   "cell_type": "code",
   "execution_count": 1,
   "metadata": {},
   "outputs": [
    {
     "ename": "ModuleNotFoundError",
     "evalue": "No module named 'cv2'",
     "output_type": "error",
     "traceback": [
      "\u001b[1;31m---------------------------------------------------------------------------\u001b[0m",
      "\u001b[1;31mModuleNotFoundError\u001b[0m                       Traceback (most recent call last)",
      "Cell \u001b[1;32mIn[1], line 1\u001b[0m\n\u001b[1;32m----> 1\u001b[0m \u001b[38;5;28;01mimport\u001b[39;00m \u001b[38;5;21;01mcv2\u001b[39;00m\n\u001b[0;32m      2\u001b[0m \u001b[38;5;28;01mimport\u001b[39;00m \u001b[38;5;21;01mnumpy\u001b[39;00m \u001b[38;5;28;01mas\u001b[39;00m \u001b[38;5;21;01mnp\u001b[39;00m\n\u001b[0;32m      3\u001b[0m image \u001b[38;5;241m=\u001b[39m cv2\u001b[38;5;241m.\u001b[39mimread(\u001b[38;5;124m'\u001b[39m\u001b[38;5;124mline_art.png\u001b[39m\u001b[38;5;124m'\u001b[39m, cv2\u001b[38;5;241m.\u001b[39mIMREAD_GRAYSCALE)\n",
      "\u001b[1;31mModuleNotFoundError\u001b[0m: No module named 'cv2'"
     ]
    }
   ],
   "source": [
    "import cv2\n",
    "import numpy as np\n",
    "image = cv2.imread('line_art.png', cv2.IMREAD_GRAYSCALE)\n",
    "_, binary_image = cv2.threshold(image, 128, 255, cv2.THRESH_BINARY)"
   ]
  },
  {
   "cell_type": "code",
   "execution_count": 3,
   "metadata": {},
   "outputs": [],
   "source": [
    "import svgpathtools\n",
    "file=r\"C:/Users/pooja/Downloads/curvetop/problems/frag0.svg\"\n",
    "# Load the SVG file\n",
    "svg_file = file\n",
    "paths, attributes = svgpathtools.svg2paths(svg_file)\n"
   ]
  },
  {
   "cell_type": "code",
   "execution_count": 5,
   "metadata": {},
   "outputs": [],
   "source": [
    "bezier_curves = []\n",
    "\n",
    "for path in paths:\n",
    "    for segment in path:\n",
    "        if isinstance(segment, svgpathtools.path.Line):\n",
    "            # Convert line segments to cubic Bezier curves\n",
    "            start = segment.start\n",
    "            end = segment.end\n",
    "            # Approximate straight lines with Bezier curves\n",
    "            control1 = start + (end - start) / 3\n",
    "            control2 = start + 2 * (end - start) / 3\n",
    "            bezier_curves.append((start, control1, control2, end))\n",
    "        elif isinstance(segment, svgpathtools.path.CubicBezier):\n",
    "            # Directly use cubic Bezier segments\n",
    "            bezier_curves.append((segment.start, segment.control1, segment.control2, segment.end))\n",
    "        # Handle other segment types similarly\n"
   ]
  },
  {
   "cell_type": "code",
   "execution_count": 6,
   "metadata": {},
   "outputs": [],
   "source": [
    "for path in paths:\n",
    "    for segment in path:\n",
    "        if isinstance(segment, svgpathtools.path.QuadraticBezier):\n",
    "            # Convert quadratic Bezier to cubic Bezier\n",
    "            start = segment.start\n",
    "            control = segment.control\n",
    "            end = segment.end\n",
    "            control1 = start + 2 / 3 * (control - start)\n",
    "            control2 = end + 2 / 3 * (control - end)\n",
    "            bezier_curves.append((start, control1, control2, end))\n"
   ]
  },
  {
   "cell_type": "code",
   "execution_count": 7,
   "metadata": {},
   "outputs": [],
   "source": [
    "import svgwrite\n",
    "\n",
    "# Create a new SVG drawing\n",
    "dwg = svgwrite.Drawing('output.svg', profile='tiny')\n",
    "\n",
    "# Add Bezier curves to the drawing\n",
    "for curve in bezier_curves:\n",
    "    start, control1, control2, end = curve\n",
    "    path_data = f'M {start.real},{start.imag} C {control1.real},{control1.imag} {control2.real},{control2.imag} {end.real},{end.imag}'\n",
    "    dwg.add(dwg.path(d=path_data, fill='none', stroke='black'))\n",
    "\n",
    "# Save the SVG file\n",
    "dwg.save()\n"
   ]
  },
  {
   "cell_type": "code",
   "execution_count": 15,
   "metadata": {},
   "outputs": [],
   "source": [
    "# other\n",
    "import cv2\n",
    "image = cv2.imread(r'frag1.png', cv2.IMREAD_GRAYSCALE)\n",
    "\n",
    "# Apply thresholding\n",
    "_, binary_image = cv2.threshold(image, 128, 255, cv2.THRESH_BINARY)"
   ]
  },
  {
   "cell_type": "code",
   "execution_count": 16,
   "metadata": {},
   "outputs": [],
   "source": [
    "# edge detection\n",
    "edges = cv2.Canny(binary_image, 100, 200)\n"
   ]
  },
  {
   "cell_type": "code",
   "execution_count": 17,
   "metadata": {},
   "outputs": [
    {
     "name": "stdout",
     "output_type": "stream",
     "text": [
      "[[0 0 0 ... 0 0 0]\n",
      " [0 0 0 ... 0 0 0]\n",
      " [0 0 0 ... 0 0 0]\n",
      " ...\n",
      " [0 0 0 ... 0 0 0]\n",
      " [0 0 0 ... 0 0 0]\n",
      " [0 0 0 ... 0 0 0]]\n"
     ]
    }
   ],
   "source": [
    "print(edges)"
   ]
  },
  {
   "cell_type": "code",
   "execution_count": 20,
   "metadata": {},
   "outputs": [],
   "source": [
    "\n",
    "from skimage.morphology import skeletonize\n",
    "from skimage import img_as_ubyte\n",
    "\n",
    "skeleton = skeletonize(binary_image // 255)\n",
    "skeleton = img_as_ubyte(skeleton)\n"
   ]
  },
  {
   "cell_type": "code",
   "execution_count": 22,
   "metadata": {},
   "outputs": [
    {
     "ename": "ModuleNotFoundError",
     "evalue": "No module named 'bezier'",
     "output_type": "error",
     "traceback": [
      "\u001b[1;31m---------------------------------------------------------------------------\u001b[0m",
      "\u001b[1;31mModuleNotFoundError\u001b[0m                       Traceback (most recent call last)",
      "Cell \u001b[1;32mIn[22], line 1\u001b[0m\n\u001b[1;32m----> 1\u001b[0m \u001b[38;5;28;01mfrom\u001b[39;00m \u001b[38;5;21;01mbezier\u001b[39;00m \u001b[38;5;28;01mimport\u001b[39;00m DCRBezierFitter\n\u001b[0;32m      3\u001b[0m \u001b[38;5;66;03m# Extract points from the skeleton\u001b[39;00m\n\u001b[0;32m      4\u001b[0m points \u001b[38;5;241m=\u001b[39m np\u001b[38;5;241m.\u001b[39mcolumn_stack(np\u001b[38;5;241m.\u001b[39mnonzero(skeleton))\n",
      "\u001b[1;31mModuleNotFoundError\u001b[0m: No module named 'bezier'"
     ]
    }
   ],
   "source": [
    "from bezier import DCRBezierFitter\n",
    "\n",
    "# Extract points from the skeleton\n",
    "points = np.column_stack(np.nonzero(skeleton))\n",
    "\n",
    "# Fit cubic Bezier curves to the points\n",
    "bezier_curves = DCRBezierFitter.fit(points, error=1.0)  # Custom parameters for fitting\n"
   ]
  }
 ],
 "metadata": {
  "kernelspec": {
   "display_name": "Python 3",
   "language": "python",
   "name": "python3"
  },
  "language_info": {
   "codemirror_mode": {
    "name": "ipython",
    "version": 3
   },
   "file_extension": ".py",
   "mimetype": "text/x-python",
   "name": "python",
   "nbconvert_exporter": "python",
   "pygments_lexer": "ipython3",
   "version": "3.11.5"
  }
 },
 "nbformat": 4,
 "nbformat_minor": 2
}
